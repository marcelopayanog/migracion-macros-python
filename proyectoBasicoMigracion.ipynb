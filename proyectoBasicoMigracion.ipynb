{
  "nbformat": 4,
  "nbformat_minor": 0,
  "metadata": {
    "colab": {
      "provenance": [],
      "mount_file_id": "1e8iAc4sSRAlzG5KWfaA3xq1OHFDvEPom",
      "authorship_tag": "ABX9TyMAoLI9jBiGMSYrohB/Q1OW",
      "include_colab_link": true
    },
    "kernelspec": {
      "name": "python3",
      "display_name": "Python 3"
    },
    "language_info": {
      "name": "python"
    }
  },
  "cells": [
    {
      "cell_type": "markdown",
      "metadata": {
        "id": "view-in-github",
        "colab_type": "text"
      },
      "source": [
        "<a href=\"https://colab.research.google.com/github/marcelopayanog/migracion-macros-python/blob/main/proyectoBasicoMigracion.ipynb\" target=\"_parent\"><img src=\"https://colab.research.google.com/assets/colab-badge.svg\" alt=\"Open In Colab\"/></a>"
      ]
    },
    {
      "cell_type": "code",
      "execution_count": 1,
      "metadata": {
        "id": "UK8x3IB6dknB"
      },
      "outputs": [],
      "source": [
        "import pandas as pd"
      ]
    },
    {
      "cell_type": "code",
      "metadata": {
        "colab": {
          "base_uri": "https://localhost:8080/"
        },
        "id": "0798ed75",
        "outputId": "53e8d157-c41a-4cc7-8ca3-805380334738"
      },
      "source": [
        "# Leemos datos desde Excel\n",
        "df = pd.read_excel(\"usuarios_con_macros.xlsm\", sheet_name=\"Usuarios\", header=2)\n",
        "\n",
        "# Eliminar los espacios en blanco por si es que los hubiera\n",
        "df.columns = df.columns.str.strip()\n",
        "\n",
        "# Imprimir los nombres de las columnas para verificar\n",
        "print(df.columns)\n",
        "\n",
        "# Filtrar los usuarios activos\n",
        "df_activos = df[df[\"Estado\"] == \"Activo\"]\n",
        "\n",
        "# Guardar el nuevo reporte que vamos a generar\n",
        "with pd.ExcelWriter(\"reporte_python.xlsx\", engine=\"openpyxl\") as writer:\n",
        "    df.to_excel(writer, sheet_name=\"Usuarios\", index=False)\n",
        "    df_activos.to_excel(writer, sheet_name=\"Reporte\", index=False)"
      ],
      "execution_count": 8,
      "outputs": [
        {
          "output_type": "stream",
          "name": "stdout",
          "text": [
            "Index(['ID', 'Nombre', 'Rol', 'Estado', 'Departamento'], dtype='object')\n"
          ]
        }
      ]
    }
  ]
}